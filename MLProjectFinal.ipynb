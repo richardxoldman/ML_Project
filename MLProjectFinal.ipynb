{
  "cells": [
    {
      "cell_type": "markdown",
      "metadata": {
        "id": "fmmVePW4mHBs"
      },
      "source": [
        "# Machine Learning Project - Car Price Prediction"
      ]
    },
    {
      "cell_type": "markdown",
      "metadata": {
        "id": "Y1_57Iev9SBd"
      },
      "source": [
        "The aim of this project is to predict car prices in Polish currency (zloty), based on their features such as year of production, engine volume, etc.\n",
        "\n",
        "To solve this problem there were used the best known AI techniques for this type of task: \n",
        "* MLP Neural Network\n",
        "* XGBoost Algorithm\n",
        "\n",
        "Data source: https://www.kaggle.com/datasets/krzysztofdogowski/used-cars-poland-with-links-may-2022\n",
        "\n",
        "Data comes from the Polish website https://www.otomoto.pl/ from May 2022."
      ]
    },
    {
      "cell_type": "code",
      "execution_count": 1,
      "metadata": {
        "id": "N3NjpitfkSaP"
      },
      "outputs": [],
      "source": [
        "import torch\n",
        "import numpy as np\n",
        "import pandas as pd\n",
        "import matplotlib.pyplot as plt\n",
        "\n",
        "from sklearn.preprocessing import StandardScaler\n",
        "from sklearn.model_selection import train_test_split\n",
        "from sklearn.metrics import mean_absolute_error, mean_squared_error, mean_absolute_percentage_error\n",
        "\n",
        "from matplotlib.pyplot import figure\n",
        "from torch.utils.data import TensorDataset, DataLoader\n",
        "from tqdm import tqdm\n",
        "from xgboost import XGBRegressor"
      ]
    },
    {
      "cell_type": "code",
      "execution_count": 2,
      "metadata": {
        "colab": {
          "base_uri": "https://localhost:8080/"
        },
        "id": "b-8_N2sBkIJ0",
        "outputId": "c7cf6d71-e3b1-4c7d-e3ee-fdb0b5034735"
      },
      "outputs": [
        {
          "output_type": "stream",
          "name": "stdout",
          "text": [
            "Mounted at /content/drive\n"
          ]
        }
      ],
      "source": [
        "from google.colab import drive\n",
        "drive.mount('/content/drive')\n",
        "\n",
        "path_to_directory = \"drive/MyDrive/\""
      ]
    },
    {
      "cell_type": "code",
      "execution_count": 3,
      "metadata": {
        "colab": {
          "base_uri": "https://localhost:8080/"
        },
        "id": "qws2EUFOkdjB",
        "outputId": "d4a7c771-b953-470b-934e-164c2e5eb868"
      },
      "outputs": [
        {
          "output_type": "stream",
          "name": "stdout",
          "text": [
            "Device: cuda\n"
          ]
        }
      ],
      "source": [
        "device = torch.device(\"cuda\" if torch.cuda.is_available() else \"cpu\")\n",
        "BATCH_SIZE = 10000\n",
        "LEARNING_RATE = 0.009\n",
        "NUMBER_OF_EPOCH = 480\n",
        "RANDOM_STATE = 123\n",
        "\n",
        "print(f\"Device: {device.type}\")"
      ]
    },
    {
      "cell_type": "markdown",
      "metadata": {
        "id": "X6OPj8pSl8qB"
      },
      "source": [
        "# Load data"
      ]
    },
    {
      "cell_type": "code",
      "execution_count": 4,
      "metadata": {
        "id": "J9Ek3OyIkO89"
      },
      "outputs": [],
      "source": [
        "df = pd.read_csv(f\"{path_to_directory}car_prices.csv\")\n",
        "df = df.drop([\"title\", \"link\"], axis=1)\n",
        "df = df.drop_duplicates()"
      ]
    },
    {
      "cell_type": "code",
      "execution_count": 5,
      "metadata": {
        "colab": {
          "base_uri": "https://localhost:8080/"
        },
        "id": "xnecpP-Tm-2A",
        "outputId": "9b43542d-2df2-484a-e1b0-603d47e91d1c"
      },
      "outputs": [
        {
          "output_type": "stream",
          "name": "stdout",
          "text": [
            "<class 'pandas.core.frame.DataFrame'>\n",
            "Int64Index: 140259 entries, 0 to 152942\n",
            "Data columns (total 7 columns):\n",
            " #   Column      Non-Null Count   Dtype \n",
            "---  ------      --------------   ----- \n",
            " 0   mark        140259 non-null  object\n",
            " 1   model       140259 non-null  object\n",
            " 2   price       140259 non-null  int64 \n",
            " 3   year        140259 non-null  int64 \n",
            " 4   mileage     140259 non-null  int64 \n",
            " 5   vol_engine  140259 non-null  int64 \n",
            " 6   fuel        140259 non-null  object\n",
            "dtypes: int64(4), object(3)\n",
            "memory usage: 8.6+ MB\n"
          ]
        }
      ],
      "source": [
        "df.info()"
      ]
    },
    {
      "cell_type": "code",
      "execution_count": 6,
      "metadata": {
        "colab": {
          "base_uri": "https://localhost:8080/",
          "height": 206
        },
        "id": "zN1_X87llu2Y",
        "outputId": "5389b252-f7d2-4a40-ae65-72aee5099b74"
      },
      "outputs": [
        {
          "output_type": "execute_result",
          "data": {
            "text/plain": [
              "   mark  model  price  year  mileage  vol_engine    fuel\n",
              "0  opel  combo  33000  2018   174069        1248  Diesel\n",
              "1  opel  combo  65900  2018    53647        1598  Diesel\n",
              "2  opel  combo  84900  2019    37700        1499  Diesel\n",
              "3  opel  combo  70900  2019   117987        1499  Diesel\n",
              "4  opel  combo  81180  2018    27000        1499  Diesel"
            ],
            "text/html": [
              "\n",
              "  <div id=\"df-e15f6805-07f5-45de-9495-fd0fdbdcd22b\">\n",
              "    <div class=\"colab-df-container\">\n",
              "      <div>\n",
              "<style scoped>\n",
              "    .dataframe tbody tr th:only-of-type {\n",
              "        vertical-align: middle;\n",
              "    }\n",
              "\n",
              "    .dataframe tbody tr th {\n",
              "        vertical-align: top;\n",
              "    }\n",
              "\n",
              "    .dataframe thead th {\n",
              "        text-align: right;\n",
              "    }\n",
              "</style>\n",
              "<table border=\"1\" class=\"dataframe\">\n",
              "  <thead>\n",
              "    <tr style=\"text-align: right;\">\n",
              "      <th></th>\n",
              "      <th>mark</th>\n",
              "      <th>model</th>\n",
              "      <th>price</th>\n",
              "      <th>year</th>\n",
              "      <th>mileage</th>\n",
              "      <th>vol_engine</th>\n",
              "      <th>fuel</th>\n",
              "    </tr>\n",
              "  </thead>\n",
              "  <tbody>\n",
              "    <tr>\n",
              "      <th>0</th>\n",
              "      <td>opel</td>\n",
              "      <td>combo</td>\n",
              "      <td>33000</td>\n",
              "      <td>2018</td>\n",
              "      <td>174069</td>\n",
              "      <td>1248</td>\n",
              "      <td>Diesel</td>\n",
              "    </tr>\n",
              "    <tr>\n",
              "      <th>1</th>\n",
              "      <td>opel</td>\n",
              "      <td>combo</td>\n",
              "      <td>65900</td>\n",
              "      <td>2018</td>\n",
              "      <td>53647</td>\n",
              "      <td>1598</td>\n",
              "      <td>Diesel</td>\n",
              "    </tr>\n",
              "    <tr>\n",
              "      <th>2</th>\n",
              "      <td>opel</td>\n",
              "      <td>combo</td>\n",
              "      <td>84900</td>\n",
              "      <td>2019</td>\n",
              "      <td>37700</td>\n",
              "      <td>1499</td>\n",
              "      <td>Diesel</td>\n",
              "    </tr>\n",
              "    <tr>\n",
              "      <th>3</th>\n",
              "      <td>opel</td>\n",
              "      <td>combo</td>\n",
              "      <td>70900</td>\n",
              "      <td>2019</td>\n",
              "      <td>117987</td>\n",
              "      <td>1499</td>\n",
              "      <td>Diesel</td>\n",
              "    </tr>\n",
              "    <tr>\n",
              "      <th>4</th>\n",
              "      <td>opel</td>\n",
              "      <td>combo</td>\n",
              "      <td>81180</td>\n",
              "      <td>2018</td>\n",
              "      <td>27000</td>\n",
              "      <td>1499</td>\n",
              "      <td>Diesel</td>\n",
              "    </tr>\n",
              "  </tbody>\n",
              "</table>\n",
              "</div>\n",
              "      <button class=\"colab-df-convert\" onclick=\"convertToInteractive('df-e15f6805-07f5-45de-9495-fd0fdbdcd22b')\"\n",
              "              title=\"Convert this dataframe to an interactive table.\"\n",
              "              style=\"display:none;\">\n",
              "        \n",
              "  <svg xmlns=\"http://www.w3.org/2000/svg\" height=\"24px\"viewBox=\"0 0 24 24\"\n",
              "       width=\"24px\">\n",
              "    <path d=\"M0 0h24v24H0V0z\" fill=\"none\"/>\n",
              "    <path d=\"M18.56 5.44l.94 2.06.94-2.06 2.06-.94-2.06-.94-.94-2.06-.94 2.06-2.06.94zm-11 1L8.5 8.5l.94-2.06 2.06-.94-2.06-.94L8.5 2.5l-.94 2.06-2.06.94zm10 10l.94 2.06.94-2.06 2.06-.94-2.06-.94-.94-2.06-.94 2.06-2.06.94z\"/><path d=\"M17.41 7.96l-1.37-1.37c-.4-.4-.92-.59-1.43-.59-.52 0-1.04.2-1.43.59L10.3 9.45l-7.72 7.72c-.78.78-.78 2.05 0 2.83L4 21.41c.39.39.9.59 1.41.59.51 0 1.02-.2 1.41-.59l7.78-7.78 2.81-2.81c.8-.78.8-2.07 0-2.86zM5.41 20L4 18.59l7.72-7.72 1.47 1.35L5.41 20z\"/>\n",
              "  </svg>\n",
              "      </button>\n",
              "      \n",
              "  <style>\n",
              "    .colab-df-container {\n",
              "      display:flex;\n",
              "      flex-wrap:wrap;\n",
              "      gap: 12px;\n",
              "    }\n",
              "\n",
              "    .colab-df-convert {\n",
              "      background-color: #E8F0FE;\n",
              "      border: none;\n",
              "      border-radius: 50%;\n",
              "      cursor: pointer;\n",
              "      display: none;\n",
              "      fill: #1967D2;\n",
              "      height: 32px;\n",
              "      padding: 0 0 0 0;\n",
              "      width: 32px;\n",
              "    }\n",
              "\n",
              "    .colab-df-convert:hover {\n",
              "      background-color: #E2EBFA;\n",
              "      box-shadow: 0px 1px 2px rgba(60, 64, 67, 0.3), 0px 1px 3px 1px rgba(60, 64, 67, 0.15);\n",
              "      fill: #174EA6;\n",
              "    }\n",
              "\n",
              "    [theme=dark] .colab-df-convert {\n",
              "      background-color: #3B4455;\n",
              "      fill: #D2E3FC;\n",
              "    }\n",
              "\n",
              "    [theme=dark] .colab-df-convert:hover {\n",
              "      background-color: #434B5C;\n",
              "      box-shadow: 0px 1px 3px 1px rgba(0, 0, 0, 0.15);\n",
              "      filter: drop-shadow(0px 1px 2px rgba(0, 0, 0, 0.3));\n",
              "      fill: #FFFFFF;\n",
              "    }\n",
              "  </style>\n",
              "\n",
              "      <script>\n",
              "        const buttonEl =\n",
              "          document.querySelector('#df-e15f6805-07f5-45de-9495-fd0fdbdcd22b button.colab-df-convert');\n",
              "        buttonEl.style.display =\n",
              "          google.colab.kernel.accessAllowed ? 'block' : 'none';\n",
              "\n",
              "        async function convertToInteractive(key) {\n",
              "          const element = document.querySelector('#df-e15f6805-07f5-45de-9495-fd0fdbdcd22b');\n",
              "          const dataTable =\n",
              "            await google.colab.kernel.invokeFunction('convertToInteractive',\n",
              "                                                     [key], {});\n",
              "          if (!dataTable) return;\n",
              "\n",
              "          const docLinkHtml = 'Like what you see? Visit the ' +\n",
              "            '<a target=\"_blank\" href=https://colab.research.google.com/notebooks/data_table.ipynb>data table notebook</a>'\n",
              "            + ' to learn more about interactive tables.';\n",
              "          element.innerHTML = '';\n",
              "          dataTable['output_type'] = 'display_data';\n",
              "          await google.colab.output.renderOutput(dataTable, element);\n",
              "          const docLink = document.createElement('div');\n",
              "          docLink.innerHTML = docLinkHtml;\n",
              "          element.appendChild(docLink);\n",
              "        }\n",
              "      </script>\n",
              "    </div>\n",
              "  </div>\n",
              "  "
            ]
          },
          "metadata": {},
          "execution_count": 6
        }
      ],
      "source": [
        "df.head()"
      ]
    },
    {
      "cell_type": "markdown",
      "metadata": {
        "id": "3cOxuekNmPUa"
      },
      "source": [
        "# Data overview & preprocessing"
      ]
    },
    {
      "cell_type": "code",
      "execution_count": 7,
      "metadata": {
        "colab": {
          "base_uri": "https://localhost:8080/"
        },
        "id": "dTWsk0d6nMrr",
        "outputId": "87c17d00-13b1-46e6-8aed-3fe0b2ed904c"
      },
      "outputs": [
        {
          "output_type": "execute_result",
          "data": {
            "text/plain": [
              "Benzyna        75047\n",
              "Diesel         61709\n",
              "Hybryda         2950\n",
              "Elektryczny      550\n",
              "LPG                3\n",
              "Name: fuel, dtype: int64"
            ]
          },
          "metadata": {},
          "execution_count": 7
        }
      ],
      "source": [
        "df[\"fuel\"].value_counts()"
      ]
    },
    {
      "cell_type": "code",
      "execution_count": 8,
      "metadata": {
        "colab": {
          "base_uri": "https://localhost:8080/",
          "height": 265
        },
        "id": "k_EY36_knYtX",
        "outputId": "43e063dd-9b12-4e99-cd85-adc3d07d822c"
      },
      "outputs": [
        {
          "output_type": "display_data",
          "data": {
            "text/plain": [
              "<Figure size 432x288 with 1 Axes>"
            ],
            "image/png": "[encoded data removed]"
          },
          "metadata": {
            "needs_background": "light"
          }
        }
      ],
      "source": [
        "plt.hist(df[\"vol_engine\"]);"
      ]
    },
    {
      "cell_type": "code",
      "execution_count": 9,
      "metadata": {
        "colab": {
          "base_uri": "https://localhost:8080/",
          "height": 80
        },
        "id": "wH9ldVqcoF-J",
        "outputId": "58332fc9-6c4d-4b34-d9e9-94dbc6497293"
      },
      "outputs": [
        {
          "output_type": "execute_result",
          "data": {
            "text/plain": [
              "       mark model   price  year  mileage  vol_engine     fuel\n",
              "27510  audi   rs6  775800  2023       10        3996  Benzyna"
            ],
            "text/html": [
              "\n",
              "  <div id=\"df-369ae384-bdae-4982-8cba-e7032a1f2a79\">\n",
              "    <div class=\"colab-df-container\">\n",
              "      <div>\n",
              "<style scoped>\n",
              "    .dataframe tbody tr th:only-of-type {\n",
              "        vertical-align: middle;\n",
              "    }\n",
              "\n",
              "    .dataframe tbody tr th {\n",
              "        vertical-align: top;\n",
              "    }\n",
              "\n",
              "    .dataframe thead th {\n",
              "        text-align: right;\n",
              "    }\n",
              "</style>\n",
              "<table border=\"1\" class=\"dataframe\">\n",
              "  <thead>\n",
              "    <tr style=\"text-align: right;\">\n",
              "      <th></th>\n",
              "      <th>mark</th>\n",
              "      <th>model</th>\n",
              "      <th>price</th>\n",
              "      <th>year</th>\n",
              "      <th>mileage</th>\n",
              "      <th>vol_engine</th>\n",
              "      <th>fuel</th>\n",
              "    </tr>\n",
              "  </thead>\n",
              "  <tbody>\n",
              "    <tr>\n",
              "      <th>27510</th>\n",
              "      <td>audi</td>\n",
              "      <td>rs6</td>\n",
              "      <td>775800</td>\n",
              "      <td>2023</td>\n",
              "      <td>10</td>\n",
              "      <td>3996</td>\n",
              "      <td>Benzyna</td>\n",
              "    </tr>\n",
              "  </tbody>\n",
              "</table>\n",
              "</div>\n",
              "      <button class=\"colab-df-convert\" onclick=\"convertToInteractive('df-369ae384-bdae-4982-8cba-e7032a1f2a79')\"\n",
              "              title=\"Convert this dataframe to an interactive table.\"\n",
              "              style=\"display:none;\">\n",
              "        \n",
              "  <svg xmlns=\"http://www.w3.org/2000/svg\" height=\"24px\"viewBox=\"0 0 24 24\"\n",
              "       width=\"24px\">\n",
              "    <path d=\"M0 0h24v24H0V0z\" fill=\"none\"/>\n",
              "    <path d=\"M18.56 5.44l.94 2.06.94-2.06 2.06-.94-2.06-.94-.94-2.06-.94 2.06-2.06.94zm-11 1L8.5 8.5l.94-2.06 2.06-.94-2.06-.94L8.5 2.5l-.94 2.06-2.06.94zm10 10l.94 2.06.94-2.06 2.06-.94-2.06-.94-.94-2.06-.94 2.06-2.06.94z\"/><path d=\"M17.41 7.96l-1.37-1.37c-.4-.4-.92-.59-1.43-.59-.52 0-1.04.2-1.43.59L10.3 9.45l-7.72 7.72c-.78.78-.78 2.05 0 2.83L4 21.41c.39.39.9.59 1.41.59.51 0 1.02-.2 1.41-.59l7.78-7.78 2.81-2.81c.8-.78.8-2.07 0-2.86zM5.41 20L4 18.59l7.72-7.72 1.47 1.35L5.41 20z\"/>\n",
              "  </svg>\n",
              "      </button>\n",
              "      \n",
              "  <style>\n",
              "    .colab-df-container {\n",
              "      display:flex;\n",
              "      flex-wrap:wrap;\n",
              "      gap: 12px;\n",
              "    }\n",
              "\n",
              "    .colab-df-convert {\n",
              "      background-color: #E8F0FE;\n",
              "      border: none;\n",
              "      border-radius: 50%;\n",
              "      cursor: pointer;\n",
              "      display: none;\n",
              "      fill: #1967D2;\n",
              "      height: 32px;\n",
              "      padding: 0 0 0 0;\n",
              "      width: 32px;\n",
              "    }\n",
              "\n",
              "    .colab-df-convert:hover {\n",
              "      background-color: #E2EBFA;\n",
              "      box-shadow: 0px 1px 2px rgba(60, 64, 67, 0.3), 0px 1px 3px 1px rgba(60, 64, 67, 0.15);\n",
              "      fill: #174EA6;\n",
              "    }\n",
              "\n",
              "    [theme=dark] .colab-df-convert {\n",
              "      background-color: #3B4455;\n",
              "      fill: #D2E3FC;\n",
              "    }\n",
              "\n",
              "    [theme=dark] .colab-df-convert:hover {\n",
              "      background-color: #434B5C;\n",
              "      box-shadow: 0px 1px 3px 1px rgba(0, 0, 0, 0.15);\n",
              "      filter: drop-shadow(0px 1px 2px rgba(0, 0, 0, 0.3));\n",
              "      fill: #FFFFFF;\n",
              "    }\n",
              "  </style>\n",
              "\n",
              "      <script>\n",
              "        const buttonEl =\n",
              "          document.querySelector('#df-369ae384-bdae-4982-8cba-e7032a1f2a79 button.colab-df-convert');\n",
              "        buttonEl.style.display =\n",
              "          google.colab.kernel.accessAllowed ? 'block' : 'none';\n",
              "\n",
              "        async function convertToInteractive(key) {\n",
              "          const element = document.querySelector('#df-369ae384-bdae-4982-8cba-e7032a1f2a79');\n",
              "          const dataTable =\n",
              "            await google.colab.kernel.invokeFunction('convertToInteractive',\n",
              "                                                     [key], {});\n",
              "          if (!dataTable) return;\n",
              "\n",
              "          const docLinkHtml = 'Like what you see? Visit the ' +\n",
              "            '<a target=\"_blank\" href=https://colab.research.google.com/notebooks/data_table.ipynb>data table notebook</a>'\n",
              "            + ' to learn more about interactive tables.';\n",
              "          element.innerHTML = '';\n",
              "          dataTable['output_type'] = 'display_data';\n",
              "          await google.colab.output.renderOutput(dataTable, element);\n",
              "          const docLink = document.createElement('div');\n",
              "          docLink.innerHTML = docLinkHtml;\n",
              "          element.appendChild(docLink);\n",
              "        }\n",
              "      </script>\n",
              "    </div>\n",
              "  </div>\n",
              "  "
            ]
          },
          "metadata": {},
          "execution_count": 9
        }
      ],
      "source": [
        "df[df[\"year\"] > 2022]"
      ]
    },
    {
      "cell_type": "code",
      "execution_count": 10,
      "metadata": {
        "colab": {
          "base_uri": "https://localhost:8080/",
          "height": 278
        },
        "id": "1tzTnbd_Dumi",
        "outputId": "e8cf61e5-b018-401f-8c9a-650f9136cc90"
      },
      "outputs": [
        {
          "output_type": "display_data",
          "data": {
            "text/plain": [
              "<Figure size 432x288 with 1 Axes>"
            ],
            "image/png": "[encoded data removed]"
          },
          "metadata": {
            "needs_background": "light"
          }
        }
      ],
      "source": [
        "plt.hist(df[\"price\"]);"
      ]
    },
    {
      "cell_type": "code",
      "execution_count": 11,
      "metadata": {
        "colab": {
          "base_uri": "https://localhost:8080/"
        },
        "id": "BrrwSBVxDMbe",
        "outputId": "b5255cda-d1cd-46dc-ad9d-f3cc618848ca"
      },
      "outputs": [
        {
          "output_type": "stream",
          "name": "stdout",
          "text": [
            "847\n"
          ]
        }
      ],
      "source": [
        "print(len(df[df[\"price\"] > 500_000]))"
      ]
    },
    {
      "cell_type": "code",
      "execution_count": 12,
      "metadata": {
        "id": "_3nVsYkxl2aq"
      },
      "outputs": [],
      "source": [
        "# only 3 records with fuel LPG\n",
        "df = df[df[\"fuel\"] != \"LPG\"]\n",
        "\n",
        "# get only nonelectric cars\n",
        "df = df[df[\"vol_engine\"] > 500]\n",
        "\n",
        "# Over than 99% of cars are priced below 500_000 zloty, so we can reduce the price to 500_000 zloty\n",
        "df = df[df[\"price\"] < 500_000]\n",
        "\n",
        "# one new car with 2023 year (dataset from 2022)\n",
        "df.loc[df[\"year\"] == 2023, \"year\"] = 2022\n",
        "df = pd.get_dummies(df, columns=[\"mark\", \"model\", \"fuel\"])"
      ]
    },
    {
      "cell_type": "markdown",
      "metadata": {
        "id": "c9UVoPJ_mdFw"
      },
      "source": [
        "# Split & Scale"
      ]
    },
    {
      "cell_type": "code",
      "execution_count": 13,
      "metadata": {
        "colab": {
          "base_uri": "https://localhost:8080/"
        },
        "id": "fPvdyGjFmlYA",
        "outputId": "fbf9ecd5-819f-45f9-91e7-1b32c9767e54"
      },
      "outputs": [
        {
          "output_type": "execute_result",
          "data": {
            "text/plain": [
              "349"
            ]
          },
          "metadata": {},
          "execution_count": 13
        }
      ],
      "source": [
        "X = df.drop(\"price\", axis=1)\n",
        "y = df[\"price\"]\n",
        "X_train, X_test, y_train, y_test = train_test_split(X, y, test_size=0.1, random_state=RANDOM_STATE)\n",
        "\n",
        "X_scaler = StandardScaler()\n",
        "y_scaler = StandardScaler()\n",
        "X_train = X_scaler.fit_transform(X_train)\n",
        "X_test = X_scaler.transform(X_test)\n",
        "\n",
        "y_train = y_scaler.fit_transform(y_train.values.reshape(-1, 1))\n",
        "y_test = y_scaler.transform(y_test.values.reshape(-1, 1))\n",
        "\n",
        "FEATURES = X_train.shape[1]\n",
        "FEATURES"
      ]
    },
    {
      "cell_type": "markdown",
      "source": [
        "# MLP Neural Network"
      ],
      "metadata": {
        "id": "NPeX0t7C-8ab"
      }
    },
    {
      "cell_type": "code",
      "execution_count": 14,
      "metadata": {
        "id": "I00hcNwDojuz"
      },
      "outputs": [],
      "source": [
        "class NeuralNetworkModel(torch.nn.Module):\n",
        "    def __init__(self):\n",
        "        super(NeuralNetworkModel, self).__init__()\n",
        "\n",
        "        self.net = torch.nn.Sequential(\n",
        "            torch.nn.Linear(FEATURES, 200),\n",
        "            torch.nn.ReLU(),\n",
        "            torch.nn.BatchNorm1d(200),\n",
        "            torch.nn.Linear(200, 200),\n",
        "            torch.nn.ReLU(),\n",
        "            torch.nn.BatchNorm1d(200),\n",
        "            torch.nn.Linear(200, 100),\n",
        "            torch.nn.ReLU(),\n",
        "            torch.nn.BatchNorm1d(100),\n",
        "            torch.nn.Linear(100, 50),\n",
        "            torch.nn.ReLU(),\n",
        "            torch.nn.BatchNorm1d(50),\n",
        "            torch.nn.Linear(50, 25),\n",
        "            torch.nn.ReLU(),\n",
        "            torch.nn.Linear(25, 1),\n",
        "        )\n",
        "\n",
        "    def forward(self, x):\n",
        "        x = self.net(x)\n",
        "        return x"
      ]
    },
    {
      "cell_type": "code",
      "execution_count": 15,
      "metadata": {
        "id": "z_ifoewOrqaa"
      },
      "outputs": [],
      "source": [
        "torch.cuda.manual_seed(RANDOM_STATE)\n",
        "torch.manual_seed(RANDOM_STATE) \n",
        "\n",
        "model = NeuralNetworkModel().to(device=device)\n",
        "criterion = torch.nn.MSELoss() \n",
        "optimizer = torch.optim.Adam(model.parameters(), lr=LEARNING_RATE)\n",
        "scheduler = torch.optim.lr_scheduler.CosineAnnealingWarmRestarts(optimizer, T_0=60, eta_min=0.00001)\n",
        "\n",
        "dataset = TensorDataset(torch.tensor(X_train), torch.tensor(y_train))\n",
        "dataloader = DataLoader(dataset, batch_size=BATCH_SIZE, shuffle=True)"
      ]
    },
    {
      "cell_type": "code",
      "execution_count": 16,
      "metadata": {
        "colab": {
          "base_uri": "https://localhost:8080/"
        },
        "id": "ff-zAfKdrs-U",
        "outputId": "ef8dbc13-f885-477c-83b0-5f218feb56d1"
      },
      "outputs": [
        {
          "output_type": "stream",
          "name": "stderr",
          "text": [
            "Loss: 0.6237770617008209: 100%|██████████| 480/480 [23:35<00:00,  2.95s/it]\n"
          ]
        },
        {
          "output_type": "execute_result",
          "data": {
            "text/plain": [
              "NeuralNetworkModel(\n",
              "  (net): Sequential(\n",
              "    (0): Linear(in_features=349, out_features=200, bias=True)\n",
              "    (1): ReLU()\n",
              "    (2): BatchNorm1d(200, eps=1e-05, momentum=0.1, affine=True, track_running_stats=True)\n",
              "    (3): Linear(in_features=200, out_features=200, bias=True)\n",
              "    (4): ReLU()\n",
              "    (5): BatchNorm1d(200, eps=1e-05, momentum=0.1, affine=True, track_running_stats=True)\n",
              "    (6): Linear(in_features=200, out_features=100, bias=True)\n",
              "    (7): ReLU()\n",
              "    (8): BatchNorm1d(100, eps=1e-05, momentum=0.1, affine=True, track_running_stats=True)\n",
              "    (9): Linear(in_features=100, out_features=50, bias=True)\n",
              "    (10): ReLU()\n",
              "    (11): BatchNorm1d(50, eps=1e-05, momentum=0.1, affine=True, track_running_stats=True)\n",
              "    (12): Linear(in_features=50, out_features=25, bias=True)\n",
              "    (13): ReLU()\n",
              "    (14): Linear(in_features=25, out_features=1, bias=True)\n",
              "  )\n",
              ")"
            ]
          },
          "metadata": {},
          "execution_count": 16
        }
      ],
      "source": [
        "train_loss = []\n",
        "\n",
        "for epoch in (pbar := tqdm(range(NUMBER_OF_EPOCH))):\n",
        "    current_loss = 0.0\n",
        "    items_total = 0\n",
        "    model.train()\n",
        "\n",
        "    for i, (X, Y) in enumerate(dataloader):\n",
        "        X = X.to(device)\n",
        "        Y = Y.to(device).float()\n",
        "\n",
        "        Y_predictions = model(X.float())\n",
        "        items_total += Y.shape[0]\n",
        "\n",
        "        optimizer.zero_grad()\n",
        "        loss = criterion(Y_predictions, Y)\n",
        "        loss.backward()\n",
        "        optimizer.step()\n",
        "        current_loss += loss.item()\n",
        "\n",
        "    scheduler.step()\n",
        "    train_loss.append(current_loss)\n",
        "    pbar.set_description(f\"Loss: {current_loss}\")\n",
        "\n",
        "model.eval()"
      ]
    },
    {
      "cell_type": "code",
      "execution_count": 17,
      "metadata": {
        "colab": {
          "base_uri": "https://localhost:8080/",
          "height": 265
        },
        "id": "3kAkNZogD9fJ",
        "outputId": "62b5ec7e-5f4d-4f75-8c63-256233d45665"
      },
      "outputs": [
        {
          "output_type": "display_data",
          "data": {
            "text/plain": [
              "<Figure size 432x288 with 1 Axes>"
            ],
            "image/png": "[encoded data removed]"
          },
          "metadata": {
            "needs_background": "light"
          }
        }
      ],
      "source": [
        "plt.plot(train_loss);"
      ]
    },
    {
      "cell_type": "markdown",
      "metadata": {
        "id": "q9XI6mKED_9b"
      },
      "source": [
        "## More accurate plot (after 60 first epochs)"
      ]
    },
    {
      "cell_type": "code",
      "execution_count": 18,
      "metadata": {
        "colab": {
          "base_uri": "https://localhost:8080/",
          "height": 265
        },
        "id": "fPwNYQHkuNGt",
        "outputId": "e8926d50-f8f0-4b22-dbfc-fa48c6fb4372"
      },
      "outputs": [
        {
          "output_type": "display_data",
          "data": {
            "text/plain": [
              "<Figure size 432x288 with 1 Axes>"
            ],
            "image/png": "[encoded data removed]"
          },
          "metadata": {
            "needs_background": "light"
          }
        }
      ],
      "source": [
        "plt.plot(train_loss[60:]);"
      ]
    },
    {
      "cell_type": "markdown",
      "source": [
        "# MLP Neural Network Metrics"
      ],
      "metadata": {
        "id": "vV9kI2DOEheF"
      }
    },
    {
      "cell_type": "code",
      "execution_count": 19,
      "metadata": {
        "colab": {
          "base_uri": "https://localhost:8080/"
        },
        "id": "ZjQWA-f8rhRT",
        "outputId": "5cb25ee2-246b-4089-ea4f-578cbee63760"
      },
      "outputs": [
        {
          "output_type": "stream",
          "name": "stdout",
          "text": [
            "MAE metric:\n",
            "10081.31\n",
            "MAPE metric:\n",
            "16.57 %\n",
            "MSE metric:\n",
            "409947589.47\n"
          ]
        }
      ],
      "source": [
        "test_predict = model(torch.tensor(X_test.astype(np.float32)).to(device))\n",
        "test_predict = test_predict.cpu().detach().numpy()\n",
        "rescaled_test_predict = y_scaler.inverse_transform(test_predict)\n",
        "\n",
        "rescaled_test_real = y_scaler.inverse_transform(y_test)\n",
        "\n",
        "mae = mean_absolute_error(rescaled_test_predict, rescaled_test_real)\n",
        "print(\"MAE metric:\")\n",
        "print(round(mae, 2))\n",
        "\n",
        "mape = mean_absolute_percentage_error(rescaled_test_predict, rescaled_test_real)\n",
        "print(\"MAPE metric:\")\n",
        "print(f\"{round(mape*100, 2)} %\")\n",
        "\n",
        "mse = mean_squared_error(rescaled_test_predict, rescaled_test_real)\n",
        "print(\"MSE metric:\")\n",
        "print(round(mse, 2))"
      ]
    },
    {
      "cell_type": "markdown",
      "source": [
        "# XGBoost"
      ],
      "metadata": {
        "id": "aL1UO-9e-2Y7"
      }
    },
    {
      "cell_type": "code",
      "source": [
        "xgb_params = {\n",
        "    'objective' : 'reg:squarederror',\n",
        "    'learning_rate': 0.1,\n",
        "    'max_depth': 15,\n",
        "    'n_estimators': 150,\n",
        "    'tree_method':'gpu_hist',\n",
        "    }\n",
        "\n",
        "xgb_model =  XGBRegressor(**xgb_params)\n",
        "xgb_model.fit(X_train, y_train)\n"
      ],
      "metadata": {
        "colab": {
          "base_uri": "https://localhost:8080/"
        },
        "id": "uzQpcwYJ-1gq",
        "outputId": "195ecd38-7056-4bcd-8398-5f04649f1f0a"
      },
      "execution_count": 20,
      "outputs": [
        {
          "output_type": "execute_result",
          "data": {
            "text/plain": [
              "XGBRegressor(max_depth=15, n_estimators=150, objective='reg:squarederror',\n",
              "             tree_method='gpu_hist')"
            ]
          },
          "metadata": {},
          "execution_count": 20
        }
      ]
    },
    {
      "cell_type": "markdown",
      "source": [
        "# XGBoost Metrics"
      ],
      "metadata": {
        "id": "vDT8hTkoEwdL"
      }
    },
    {
      "cell_type": "code",
      "source": [
        "xgb_test_predict = xgb_model.predict(X_test)\n",
        "\n",
        "xgb_rescaled_test_predict = y_scaler.inverse_transform(xgb_test_predict.reshape(-1, 1))\n",
        "rescaled_test_real = y_scaler.inverse_transform(y_test)\n",
        "\n",
        "mae = mean_absolute_error(xgb_rescaled_test_predict, rescaled_test_real)\n",
        "print(\"MAE metric:\")\n",
        "print(round(mae, 2))\n",
        "\n",
        "mape = mean_absolute_percentage_error(xgb_rescaled_test_predict, rescaled_test_real)\n",
        "print(\"MAPE metric:\")\n",
        "print(f\"{round(mape*100, 2)} %\")\n",
        "\n",
        "mse = mean_squared_error(xgb_rescaled_test_predict, rescaled_test_real)\n",
        "print(\"MSE metric:\")\n",
        "print(round(mse, 2))"
      ],
      "metadata": {
        "colab": {
          "base_uri": "https://localhost:8080/"
        },
        "id": "8VyaspnYCWF4",
        "outputId": "7c3a4c5e-0848-4fe2-a750-785a060ea220"
      },
      "execution_count": 21,
      "outputs": [
        {
          "output_type": "stream",
          "name": "stdout",
          "text": [
            "MAE metric:\n",
            "10187.41\n",
            "MAPE metric:\n",
            "16.28 %\n",
            "MSE metric:\n",
            "407618397.58\n"
          ]
        }
      ]
    },
    {
      "cell_type": "markdown",
      "source": [
        "# Mean of predictions metrics"
      ],
      "metadata": {
        "id": "Qizl3hGJYwgd"
      }
    },
    {
      "cell_type": "code",
      "source": [
        "zipped_predictions = zip(list(rescaled_test_predict), list(xgb_rescaled_test_predict))\n",
        "rescaled_test_predict = [(x+y) / 2 for x, y in zipped_predictions]\n",
        "\n",
        "mae = mean_absolute_error(rescaled_test_predict, rescaled_test_real)\n",
        "print(\"MAE metric:\")\n",
        "print(round(mae, 2))\n",
        "\n",
        "mape = mean_absolute_percentage_error(rescaled_test_predict, rescaled_test_real)\n",
        "print(\"MAPE metric:\")\n",
        "print(f\"{round(mape*100, 2)} %\")\n",
        "\n",
        "mse = mean_squared_error(rescaled_test_predict, rescaled_test_real)\n",
        "print(\"MSE metric:\")\n",
        "print(round(mse, 2))"
      ],
      "metadata": {
        "colab": {
          "base_uri": "https://localhost:8080/"
        },
        "id": "RHZRlDVwYv-d",
        "outputId": "8c4628ea-496d-4621-b615-0e05eb80607e"
      },
      "execution_count": 22,
      "outputs": [
        {
          "output_type": "stream",
          "name": "stdout",
          "text": [
            "MAE metric:\n",
            "9835.72\n",
            "MAPE metric:\n",
            "15.71 %\n",
            "MSE metric:\n",
            "382884991.4\n"
          ]
        }
      ]
    },
    {
      "cell_type": "markdown",
      "metadata": {
        "id": "I47tSLNhTb8P"
      },
      "source": [
        "# Overall cost price comparison\n",
        "# Mean of two models predictions will be used as the final prediction"
      ]
    },
    {
      "cell_type": "code",
      "execution_count": 23,
      "metadata": {
        "id": "66OpEPRlBxv6"
      },
      "outputs": [],
      "source": [
        "rescaled_test_real = list(rescaled_test_real)\n",
        "\n",
        "# single pair consists of actual price of a car and the predicted one\n",
        "sorted_pairs = sorted(zip(rescaled_test_real, rescaled_test_predict), key=lambda x: x[0])"
      ]
    },
    {
      "cell_type": "code",
      "execution_count": 24,
      "metadata": {
        "id": "0DrFJ44TPePi"
      },
      "outputs": [],
      "source": [
        "pairs_to_plot = [pair for idx, pair in enumerate(sorted_pairs) if idx % 250 == 0]\n",
        "indexes = [x for x in range(len(pairs_to_plot))]"
      ]
    },
    {
      "cell_type": "code",
      "execution_count": 25,
      "metadata": {
        "colab": {
          "base_uri": "https://localhost:8080/",
          "height": 413
        },
        "id": "uGItFVXjNxoW",
        "outputId": "fb9f61ca-506a-453e-e89d-135b48bc36f0"
      },
      "outputs": [
        {
          "output_type": "display_data",
          "data": {
            "text/plain": [
              "<Figure size 640x480 with 1 Axes>"
            ],
            "image/png": "[encoded data removed]"
          },
          "metadata": {
            "needs_background": "light"
          }
        }
      ],
      "source": [
        "from matplotlib.pyplot import figure\n",
        "\n",
        "figure(figsize=(8, 6), dpi=80)\n",
        "\n",
        "plt.scatter(indexes, [x[0] for x in pairs_to_plot], label = \"real\")\n",
        "plt.scatter(indexes, [x[1] for x in pairs_to_plot], label = \"predict\")\n",
        "plt.legend()\n",
        "plt.show()"
      ]
    },
    {
      "cell_type": "markdown",
      "metadata": {
        "id": "MGlfmFUtQ2b4"
      },
      "source": [
        "# Low cost cars price comparison (less than 100_000)"
      ]
    },
    {
      "cell_type": "code",
      "execution_count": 38,
      "metadata": {
        "id": "w3O2xcKIQidX"
      },
      "outputs": [],
      "source": [
        "low_cost_pairs = [x for x in sorted_pairs if x[0] < 100_000]\n",
        "low_cost_pairs_to_plot = [pair for idx, pair in enumerate(low_cost_pairs) if idx % 250 == 0]\n",
        "low_cost_indexes = [x for x in range(len(low_cost_pairs_to_plot))]"
      ]
    },
    {
      "cell_type": "code",
      "execution_count": 39,
      "metadata": {
        "colab": {
          "base_uri": "https://localhost:8080/",
          "height": 413
        },
        "id": "GA0NxZ7fRM7T",
        "outputId": "110fd23c-3cd4-462e-f173-4885b3004605"
      },
      "outputs": [
        {
          "output_type": "display_data",
          "data": {
            "text/plain": [
              "<Figure size 640x480 with 1 Axes>"
            ],
            "image/png": "[encoded data removed]"
          },
          "metadata": {
            "needs_background": "light"
          }
        }
      ],
      "source": [
        "figure(figsize=(8, 6), dpi=80)\n",
        "\n",
        "plt.scatter(low_cost_indexes, [x[0] for x in low_cost_pairs_to_plot], label = \"real\")\n",
        "plt.scatter(low_cost_indexes, [x[1] for x in low_cost_pairs_to_plot], label = \"predict\")\n",
        "plt.legend()\n",
        "plt.show()"
      ]
    },
    {
      "cell_type": "markdown",
      "metadata": {
        "id": "5jhFRFexSzYP"
      },
      "source": [
        "# High cost price comparison (higher than 100_000)"
      ]
    },
    {
      "cell_type": "code",
      "execution_count": 42,
      "metadata": {
        "id": "3tDKWdZNS4oY"
      },
      "outputs": [],
      "source": [
        "high_cost_pairs = [x for x in sorted_pairs if x[0] > 100_000]\n",
        "high_cost_pairs_to_plot = [pair for idx, pair in enumerate(high_cost_pairs) if idx % 60 == 0]\n",
        "high_cost_indexes = [x for x in range(len(high_cost_pairs_to_plot))]"
      ]
    },
    {
      "cell_type": "code",
      "execution_count": 43,
      "metadata": {
        "colab": {
          "base_uri": "https://localhost:8080/",
          "height": 417
        },
        "id": "OBphGStJS8vH",
        "outputId": "f0b04491-df81-4c2f-a984-ad67d40d5cd8"
      },
      "outputs": [
        {
          "output_type": "display_data",
          "data": {
            "text/plain": [
              "<Figure size 640x480 with 1 Axes>"
            ],
            "image/png": "[encoded data removed]"
          },
          "metadata": {
            "needs_background": "light"
          }
        }
      ],
      "source": [
        "figure(figsize=(8, 6), dpi=80)\n",
        "\n",
        "plt.ylim(0, 500_000)\n",
        "plt.scatter(high_cost_indexes, [x[0] for x in high_cost_pairs_to_plot], label = \"real\")\n",
        "plt.scatter(high_cost_indexes, [x[1] for x in high_cost_pairs_to_plot], label = \"predict\")\n",
        "\n",
        "plt.legend()\n",
        "plt.show()"
      ]
    },
    {
      "cell_type": "markdown",
      "metadata": {
        "id": "UOWt2WKX9SBj"
      },
      "source": [
        "# Summary\n",
        "\n",
        "Combining two models gives the best metric values.\n",
        "\n",
        "The results are promising considering the fact, that there are more factors which are not present in the dataset that impact the price of given car (like information about past car accidents).\n",
        "\n",
        "For common car models in Poland, both models should return quite accurate information about the estimated price of the car.\n"
      ]
    }
  ],
  "metadata": {
    "accelerator": "GPU",
    "colab": {
      "provenance": []
    },
    "gpuClass": "standard",
    "kernelspec": {
      "display_name": "Python 3",
      "name": "python3"
    },
    "language_info": {
      "name": "python"
    }
  },
  "nbformat": 4,
  "nbformat_minor": 0
}